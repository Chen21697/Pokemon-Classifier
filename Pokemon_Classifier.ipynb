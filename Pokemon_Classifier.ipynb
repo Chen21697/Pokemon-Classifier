{
 "cells": [
  {
   "cell_type": "markdown",
   "metadata": {},
   "source": [
    "# ML Classification\n",
    "- Learn a model that can clssify which type of given pokemon belongs to based on its 6 attributes: (1) HP (2) Attack (3) Defense (4) Special Attack (5) Special Defense (6) Speed.\n",
    "- **Generative Model** is used in this project.\n",
    "- This is just a **Binary Classification case** which can only classify grass or fire type."
   ]
  },
  {
   "cell_type": "code",
   "execution_count": 1,
   "metadata": {},
   "outputs": [],
   "source": [
    "import os\n",
    "import numpy as np\n",
    "import pandas as pd\n",
    "import matplotlib.pyplot as plt\n",
    "from scipy.stats import multivariate_normal"
   ]
  },
  {
   "cell_type": "code",
   "execution_count": 2,
   "metadata": {},
   "outputs": [
    {
     "data": {
      "text/html": [
       "<div>\n",
       "<style scoped>\n",
       "    .dataframe tbody tr th:only-of-type {\n",
       "        vertical-align: middle;\n",
       "    }\n",
       "\n",
       "    .dataframe tbody tr th {\n",
       "        vertical-align: top;\n",
       "    }\n",
       "\n",
       "    .dataframe thead th {\n",
       "        text-align: right;\n",
       "    }\n",
       "</style>\n",
       "<table border=\"1\" class=\"dataframe\">\n",
       "  <thead>\n",
       "    <tr style=\"text-align: right;\">\n",
       "      <th></th>\n",
       "      <th>#</th>\n",
       "      <th>Name</th>\n",
       "      <th>Type 1</th>\n",
       "      <th>Type 2</th>\n",
       "      <th>Total</th>\n",
       "      <th>HP</th>\n",
       "      <th>Attack</th>\n",
       "      <th>Defense</th>\n",
       "      <th>Sp. Atk</th>\n",
       "      <th>Sp. Def</th>\n",
       "      <th>Speed</th>\n",
       "      <th>Generation</th>\n",
       "      <th>Legendary</th>\n",
       "    </tr>\n",
       "  </thead>\n",
       "  <tbody>\n",
       "    <tr>\n",
       "      <th>0</th>\n",
       "      <td>1</td>\n",
       "      <td>Bulbasaur</td>\n",
       "      <td>Grass</td>\n",
       "      <td>Poison</td>\n",
       "      <td>318</td>\n",
       "      <td>45</td>\n",
       "      <td>49</td>\n",
       "      <td>49</td>\n",
       "      <td>65</td>\n",
       "      <td>65</td>\n",
       "      <td>45</td>\n",
       "      <td>1</td>\n",
       "      <td>False</td>\n",
       "    </tr>\n",
       "    <tr>\n",
       "      <th>1</th>\n",
       "      <td>2</td>\n",
       "      <td>Ivysaur</td>\n",
       "      <td>Grass</td>\n",
       "      <td>Poison</td>\n",
       "      <td>405</td>\n",
       "      <td>60</td>\n",
       "      <td>62</td>\n",
       "      <td>63</td>\n",
       "      <td>80</td>\n",
       "      <td>80</td>\n",
       "      <td>60</td>\n",
       "      <td>1</td>\n",
       "      <td>False</td>\n",
       "    </tr>\n",
       "    <tr>\n",
       "      <th>2</th>\n",
       "      <td>3</td>\n",
       "      <td>Venusaur</td>\n",
       "      <td>Grass</td>\n",
       "      <td>Poison</td>\n",
       "      <td>525</td>\n",
       "      <td>80</td>\n",
       "      <td>82</td>\n",
       "      <td>83</td>\n",
       "      <td>100</td>\n",
       "      <td>100</td>\n",
       "      <td>80</td>\n",
       "      <td>1</td>\n",
       "      <td>False</td>\n",
       "    </tr>\n",
       "    <tr>\n",
       "      <th>3</th>\n",
       "      <td>3</td>\n",
       "      <td>VenusaurMega Venusaur</td>\n",
       "      <td>Grass</td>\n",
       "      <td>Poison</td>\n",
       "      <td>625</td>\n",
       "      <td>80</td>\n",
       "      <td>100</td>\n",
       "      <td>123</td>\n",
       "      <td>122</td>\n",
       "      <td>120</td>\n",
       "      <td>80</td>\n",
       "      <td>1</td>\n",
       "      <td>False</td>\n",
       "    </tr>\n",
       "    <tr>\n",
       "      <th>4</th>\n",
       "      <td>4</td>\n",
       "      <td>Charmander</td>\n",
       "      <td>Fire</td>\n",
       "      <td>NaN</td>\n",
       "      <td>309</td>\n",
       "      <td>39</td>\n",
       "      <td>52</td>\n",
       "      <td>43</td>\n",
       "      <td>60</td>\n",
       "      <td>50</td>\n",
       "      <td>65</td>\n",
       "      <td>1</td>\n",
       "      <td>False</td>\n",
       "    </tr>\n",
       "  </tbody>\n",
       "</table>\n",
       "</div>"
      ],
      "text/plain": [
       "   #                   Name Type 1  Type 2  Total  HP  Attack  Defense  \\\n",
       "0  1              Bulbasaur  Grass  Poison    318  45      49       49   \n",
       "1  2                Ivysaur  Grass  Poison    405  60      62       63   \n",
       "2  3               Venusaur  Grass  Poison    525  80      82       83   \n",
       "3  3  VenusaurMega Venusaur  Grass  Poison    625  80     100      123   \n",
       "4  4             Charmander   Fire     NaN    309  39      52       43   \n",
       "\n",
       "   Sp. Atk  Sp. Def  Speed  Generation  Legendary  \n",
       "0       65       65     45           1      False  \n",
       "1       80       80     60           1      False  \n",
       "2      100      100     80           1      False  \n",
       "3      122      120     80           1      False  \n",
       "4       60       50     65           1      False  "
      ]
     },
     "execution_count": 2,
     "metadata": {},
     "output_type": "execute_result"
    }
   ],
   "source": [
    "data = pd.read_csv('/Users/yuwenchen/Pokemon-Classifier/Pokemon.csv')\n",
    "data = pd.DataFrame(data)\n",
    "data.head()"
   ]
  },
  {
   "cell_type": "code",
   "execution_count": 3,
   "metadata": {},
   "outputs": [],
   "source": [
    "df = data[['Type 1', 'HP', 'Attack', 'Defense', 'Sp. Atk', 'Sp. Def', 'Speed']]\n",
    "\n",
    "# extract all grass type pokemon \n",
    "grassType = df.loc[df['Type 1'] == 'Grass']\n",
    "# extract all fire type pokemon\n",
    "fireType = df.loc[df['Type 1'] == 'Fire']\n",
    "\n",
    "# only derive 80% grass type pokemon as training set(35)\n",
    "grass_train = grassType.sample(frac=0.8, replace=False, random_state=1)\n",
    "# only derive 80% fire type pokemon as training set(49)\n",
    "fire_train = fireType.sample(frac=0.8, replace=False, random_state=1)\n",
    "\n",
    "# the 50% rest is testing set\n",
    "grass_test = grassType[~grassType.isin(grass_train)].dropna()\n",
    "fire_test = fireType[~fireType.isin(fire_train)].dropna()\n",
    "all_test = pd.concat([grass_test, fire_test], ignore_index=True, sort=False)"
   ]
  },
  {
   "cell_type": "markdown",
   "metadata": {},
   "source": [
    "## Classification\n",
    "\n",
    "- <h4>In this project, class1 is grass type, class2 is fire type.</h4>\n",
    "<br>\n",
    "- <h3>Bayes' theorem</h3>\n",
    "<p>The way to do the classfication is using <strong>Bayes' theorem</strong>. For example, given input x the probability of it belonging to class 1  is P(C1|x), which is:<br><br>\n",
    "    $$\n",
    "    P(C_1|x)=\\frac{P(C_1)P(x|C_1)}{P(C_1)P(x|C_1)+P(C_2)P(x|C_2)}\n",
    "    $$<br><br>    \n",
    "    We can caculate <strong>P(x|C1)</strong> and <strong>P(x|C2)</strong> by using <strong>Multivariate Gaussian Distrubution</strong>.\n",
    "</p>\n",
    "<br>\n",
    "- <h3>Multivariate Gaussian Distrubution</h3>\n",
    "<p>Assume the training set is sampled from a Multivariate Gaussian Distrubution.<br><br>\n",
    "    Once we get the mean (μ) and corvariance (∑) of the Gausssian, we can use this model (Multivariate Gausssian Distrubution) to caculate the probability of given sample belonging C1 or C2.<br><br>\n",
    "    Following is the formular of Multivariate Gaussian Distrubution:<br><br>\n",
    "$$\n",
    "f_{u,\\Sigma}(x)=\\frac{1}{(2\\pi)^{\\frac{D}{2}}}\\frac{1}{|\\Sigma|^{\\frac{1}{2}}}e^{-\\frac{1}{2}(x-u)^T\\Sigma^{-1}(x-u)}\n",
    "$$<br><br>\n",
    "Since the likelihoods of each sample are differnt, we use <strong>Maximum Likelihood</strong> to find a optimal likelihood for all the sample.\n",
    "</p>\n",
    "\n",
    "- <h3>Maximum Likelihood</h3>\n",
    "<p>The mean(μ*) and corvariance(∑*) can generate the highest probability for all the sample.<br><br>\n",
    "    The way we find μ* and ∑* is using following formulars: (Notice that you could use differential fo find μ* and ∑* but I did not)<br><br>\n",
    "    $$\n",
    "    w = {sample \\ amount}\n",
    "    $$\n",
    "   <br>\n",
    "    $$\n",
    "    u^*,\\Sigma^*=\\arg \\max\\limits_{u,\\Sigma} L(u,\\Sigma)\n",
    "    $$\n",
    "   <br>\n",
    "    $$\n",
    "    u^*=\\frac{1}{w} \\sum_{n=1}^{w} \\ x^n\n",
    "    $$\n",
    "   <br>\n",
    "    $$\n",
    "    \\Sigma^*=\\frac{1}{w}\\sum_{n=1}^{w}(x^n-u^*)(x^n-u^*)^T\n",
    "    $$\n",
    "</p>\n",
    "\n",
    "- <h3>Therefore, P(x|C1) is:</h3>\n",
    "<p>$$\n",
    "f_{u^*,\\Sigma^*}(x)=\\frac{1}{(2\\pi)^{\\frac{D}{2}}}\\frac{1}{|\\Sigma^*|^{\\frac{1}{2}}}e^{-\\frac{1}{2}(x-u^*)^T\\Sigma^{-1}(x-u^*)}\n",
    "$$\n",
    "</p>"
   ]
  },
  {
   "cell_type": "code",
   "execution_count": 4,
   "metadata": {},
   "outputs": [],
   "source": [
    "# amount of training set for each\n",
    "num_g = grass_train.shape[0]\n",
    "num_f = fire_train.shape[0]\n",
    "\n",
    "# transform all the attributes into list form\n",
    "grass_list = grass_train.values.T.tolist()\n",
    "fire_list = fire_train.values.T.tolist()"
   ]
  },
  {
   "cell_type": "markdown",
   "metadata": {},
   "source": [
    "#### Caculate P(C1) and P(C2) for Bayes' theorem"
   ]
  },
  {
   "cell_type": "code",
   "execution_count": 5,
   "metadata": {},
   "outputs": [],
   "source": [
    "# 35 grass type pokemon, 49 fire type pokemon\n",
    "p_c1 = num_g/(num_g + num_f)\n",
    "p_c2 = num_f/(num_g + num_f)"
   ]
  },
  {
   "cell_type": "markdown",
   "metadata": {},
   "source": [
    "#### Caculate P(x|C1) and P(x|C2)"
   ]
  },
  {
   "cell_type": "code",
   "execution_count": 6,
   "metadata": {},
   "outputs": [],
   "source": [
    "# function that find the optimal Gaussian Distribution by caculating Maximum Likelihood.\n",
    "'''\n",
    "Type 1  : 0\n",
    "HP      : 1\n",
    "Attack  : 2\n",
    "Defense : 3\n",
    "Sp. Atk : 4\n",
    "Sp. Def : 5\n",
    "Speed   : 6\n",
    "'''\n",
    "def getMeanCor(pokeList:list, length:int):\n",
    "    \n",
    "    # caculate the μ*\n",
    "    u = 0\n",
    "    for i in range (length):\n",
    "        x_n = np.array([[pokeList[1][i]],[pokeList[2][i]],[pokeList[3][i]],[pokeList[4][i]],[pokeList[5][i]],[pokeList[6][i]]])\n",
    "        u = u + x_n\n",
    "\n",
    "    u_max = u/num_g\n",
    "    u_max = u_max.astype(int)\n",
    "\n",
    "    # caculate the ∑*\n",
    "    sig = 0\n",
    "    for i in range (length):\n",
    "        # current\n",
    "        x_n = np.array([[pokeList[1][i]],[pokeList[2][i]],[pokeList[3][i]],[pokeList[4][i]],[pokeList[5][i]],[pokeList[6][i]]])\n",
    "        left = x_n - u_max\n",
    "        right = left.T\n",
    "        sig = sig + left * right\n",
    "\n",
    "    sig_max = sig/num_g\n",
    "    sig_max = sig_max.astype(int)\n",
    "    \n",
    "    u_max_flat = list(np.concatenate(u_max).flat)    \n",
    "    \n",
    "    return u_max_flat, sig_max"
   ]
  },
  {
   "cell_type": "code",
   "execution_count": 7,
   "metadata": {},
   "outputs": [],
   "source": [
    "# optiaml Gaussian Distrubution\n",
    "# class1: grass\n",
    "meanC1, sigC1 = getMeanCor(grass_list, num_g)\n",
    "# class2: fire\n",
    "meanC2, sigC2 = getMeanCor(fire_list, num_f)\n",
    "\n",
    "# let the two distributions share the same mean\n",
    "sum_sig = (num_g / (num_g + num_f))*sigC1 + (num_f / (num_g + num_f))*sigC2"
   ]
  },
  {
   "cell_type": "code",
   "execution_count": 8,
   "metadata": {},
   "outputs": [
    {
     "data": {
      "text/plain": [
       "array([[390, 333, 228, 299, 161, 139],\n",
       "       [333, 600, 322, 372, 140, 197],\n",
       "       [228, 322, 579, 118, 242, 125],\n",
       "       [299, 372, 118, 666, 195, 309],\n",
       "       [161, 140, 242, 195, 369, 193],\n",
       "       [139, 197, 125, 309, 193, 777]])"
      ]
     },
     "execution_count": 8,
     "metadata": {},
     "output_type": "execute_result"
    }
   ],
   "source": [
    "sigC1"
   ]
  },
  {
   "cell_type": "code",
   "execution_count": 9,
   "metadata": {},
   "outputs": [
    {
     "data": {
      "text/plain": [
       "array([[ 509,  538,  418,  503,  450,  418],\n",
       "       [ 538,  975,  482,  627,  520,  533],\n",
       "       [ 418,  482,  701,  680,  542,  255],\n",
       "       [ 503,  627,  680, 1131,  746,  467],\n",
       "       [ 450,  520,  542,  746,  687,  406],\n",
       "       [ 418,  533,  255,  467,  406,  798]])"
      ]
     },
     "execution_count": 9,
     "metadata": {},
     "output_type": "execute_result"
    }
   ],
   "source": [
    "sigC2"
   ]
  },
  {
   "cell_type": "code",
   "execution_count": 10,
   "metadata": {},
   "outputs": [],
   "source": [
    "p_x_C1 = multivariate_normal(mean=meanC1, cov=sum_sig)\n",
    "p_x_C2 = multivariate_normal(mean=meanC2, cov=sum_sig)"
   ]
  },
  {
   "cell_type": "markdown",
   "metadata": {},
   "source": [
    "## Testing Phase\n",
    "<p>Having all the parameters for Bayes' theorem now, it will give us the probabilty of being which class once we give it a input.<br><br>\n",
    "If the probability is greater than 0.5 then it belongs to certain category.<br><br>\n",
    "Use the accuracy formula:\n",
    "$$\n",
    "accuracy=\\frac{TP+TN}{TP+TN+FP+FN}\n",
    "$$\n",
    "</p>"
   ]
  },
  {
   "cell_type": "code",
   "execution_count": 11,
   "metadata": {},
   "outputs": [],
   "source": [
    "# transform testing set from datafram to list\n",
    "test = all_test.values.T.tolist()"
   ]
  },
  {
   "cell_type": "code",
   "execution_count": 12,
   "metadata": {},
   "outputs": [],
   "source": [
    "# the length of the testing set\n",
    "tlen = all_test.shape[0]"
   ]
  },
  {
   "cell_type": "code",
   "execution_count": 13,
   "metadata": {},
   "outputs": [],
   "source": [
    "#  TP = True Positives, TN = True Negatives, FP = False Positives, and FN = False Negatives.\n",
    "TP = TN = FP = FN = 0"
   ]
  },
  {
   "cell_type": "code",
   "execution_count": 14,
   "metadata": {},
   "outputs": [],
   "source": [
    "# if the output > 0.6 then it belongs to class1, else class2\n",
    "\n",
    "for i in range(tlen):\n",
    "    temp = [int(test[1][i]) ,int(test[2][i]), int(test[3][i]), int(test[4][i]), int(test[5][i]), int(test[6][i])]\n",
    "    output =  p_x_C1.pdf(temp)*p_c1 / (p_x_C1.pdf(temp)*p_c1 + p_x_C2.pdf(temp)*p_c2)\n",
    "    \n",
    "    if output > 0.5: # the prediction is grass\n",
    "        if test[0][i] == 'Grass': # if it is actually grass type\n",
    "            TP += 1\n",
    "        else: # if it is actually NOT Grass type\n",
    "            TN += 1\n",
    "    else: # the prediction is fire\n",
    "        if test[0][i] == 'Fire': # if it is actually fire type\n",
    "            FP += 1\n",
    "        else: # if it is actually NOT fire type\n",
    "            FN += 1"
   ]
  },
  {
   "cell_type": "code",
   "execution_count": 15,
   "metadata": {},
   "outputs": [
    {
     "data": {
      "text/plain": [
       "0.75"
      ]
     },
     "execution_count": 15,
     "metadata": {},
     "output_type": "execute_result"
    }
   ],
   "source": [
    "# caculate the accuracy\n",
    "accuracy = (TP+TN) / (TP+TN+FP+FN)\n",
    "accuracy"
   ]
  }
 ],
 "metadata": {
  "kernelspec": {
   "display_name": "Python 3",
   "language": "python",
   "name": "python3"
  },
  "language_info": {
   "codemirror_mode": {
    "name": "ipython",
    "version": 3
   },
   "file_extension": ".py",
   "mimetype": "text/x-python",
   "name": "python",
   "nbconvert_exporter": "python",
   "pygments_lexer": "ipython3",
   "version": "3.7.1"
  }
 },
 "nbformat": 4,
 "nbformat_minor": 2
}
